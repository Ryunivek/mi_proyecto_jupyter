{
 "cells": [
  {
   "cell_type": "code",
   "execution_count": null,
   "id": "33bde21d",
   "metadata": {
    "vscode": {
     "languageId": "plaintext"
    }
   },
   "outputs": [],
   "source": [
    "import streamlit as st\n",
    "import pandas as pd # Añadimos esto para el ejemplo de los datos\n",
    "\n",
    "st.header('Lanzar una moneda')\n",
    "st.write('Esta aplicación aún no es funcional. En construcción.')\n",
    "\n",
    "# Añadamos algo de interactividad para que sea un poco más completo\n",
    "num_attempts = st.slider('¿Número de intentos?', min_value=1, max_value=1000, value=10)\n",
    "\n",
    "if st.button('Ejecutar'):\n",
    "    st.write(f'Experimento con {num_attempts} intentos en curso.')\n",
    "    # Simulación de lanzamiento de moneda\n",
    "    import numpy as np\n",
    "    results = np.random.choice([0, 1], size=num_attempts)\n",
    "    df = pd.DataFrame({\n",
    "        'intento': range(1, num_attempts + 1),\n",
    "        'resultado': results,\n",
    "        'media_acumulada': np.cumsum(results) / np.arange(1, num_attempts + 1)\n",
    "    })\n",
    "    st.line_chart(df['media_acumulada'])\n",
    "    st.dataframe(df)"
   ]
  }
 ],
 "metadata": {
  "language_info": {
   "name": "python"
  }
 },
 "nbformat": 4,
 "nbformat_minor": 5
}
